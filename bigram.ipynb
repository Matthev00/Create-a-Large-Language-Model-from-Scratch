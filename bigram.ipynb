{
 "cells": [
  {
   "cell_type": "code",
   "execution_count": 13,
   "metadata": {},
   "outputs": [
    {
     "data": {
      "text/plain": [
       "['\\n',\n",
       " ' ',\n",
       " '!',\n",
       " '\"',\n",
       " '&',\n",
       " \"'\",\n",
       " '(',\n",
       " ')',\n",
       " '*',\n",
       " ',',\n",
       " '-',\n",
       " '.',\n",
       " '0',\n",
       " '1',\n",
       " '2',\n",
       " '3',\n",
       " '4',\n",
       " '5',\n",
       " '6',\n",
       " '7',\n",
       " '8',\n",
       " '9',\n",
       " ':',\n",
       " ';',\n",
       " '?',\n",
       " 'A',\n",
       " 'B',\n",
       " 'C',\n",
       " 'D',\n",
       " 'E',\n",
       " 'F',\n",
       " 'G',\n",
       " 'H',\n",
       " 'I',\n",
       " 'J',\n",
       " 'K',\n",
       " 'L',\n",
       " 'M',\n",
       " 'N',\n",
       " 'O',\n",
       " 'P',\n",
       " 'Q',\n",
       " 'R',\n",
       " 'S',\n",
       " 'T',\n",
       " 'U',\n",
       " 'V',\n",
       " 'W',\n",
       " 'X',\n",
       " 'Y',\n",
       " 'Z',\n",
       " '[',\n",
       " ']',\n",
       " '_',\n",
       " 'a',\n",
       " 'b',\n",
       " 'c',\n",
       " 'd',\n",
       " 'e',\n",
       " 'f',\n",
       " 'g',\n",
       " 'h',\n",
       " 'i',\n",
       " 'j',\n",
       " 'k',\n",
       " 'l',\n",
       " 'm',\n",
       " 'n',\n",
       " 'o',\n",
       " 'p',\n",
       " 'q',\n",
       " 'r',\n",
       " 's',\n",
       " 't',\n",
       " 'u',\n",
       " 'v',\n",
       " 'w',\n",
       " 'x',\n",
       " 'y',\n",
       " 'z',\n",
       " '\\ufeff']"
      ]
     },
     "execution_count": 13,
     "metadata": {},
     "output_type": "execute_result"
    }
   ],
   "source": [
    "with open('wizard_of_oz.txt', 'r', encoding='utf-8') as file_handle:\n",
    "    text = file_handle.read()\n",
    "\n",
    "chars = sorted(set(text))\n",
    "chars"
   ]
  },
  {
   "cell_type": "code",
   "execution_count": 14,
   "metadata": {},
   "outputs": [
    {
     "name": "stdout",
     "output_type": "stream",
     "text": [
      "hello\n"
     ]
    }
   ],
   "source": [
    "str_to_int = { ch:i for i, ch in enumerate(chars)}\n",
    "int_to_ch = { i:ch for i, ch in enumerate(chars)}\n",
    "\n",
    "encode = lambda s: [str_to_int[c] for c in s]\n",
    "decode = lambda l: ''.join([int_to_ch[n] for n in l])\n",
    "\n",
    "encoded_hello = encode('hello')\n",
    "decoded_hello = decode(encoded_hello)\n",
    "print(decoded_hello)"
   ]
  },
  {
   "cell_type": "code",
   "execution_count": 15,
   "metadata": {},
   "outputs": [],
   "source": [
    "import torch\n",
    "from torch import nn\n",
    "from torch.nn import functional as F\n",
    "\n",
    "device = torch.device('cuda:0' if torch.cuda.is_available() else 'cpu')\n",
    "BLOCK_SIZE = 8\n",
    "BATCH_SIZE = 4\n",
    "MAX_ITERS = 10000\n",
    "LEARNING_RATE = 3e-4\n",
    "EVAL_STEP = 250"
   ]
  },
  {
   "cell_type": "code",
   "execution_count": 16,
   "metadata": {},
   "outputs": [
    {
     "name": "stdout",
     "output_type": "stream",
     "text": [
      "tensor([80, 28, 39, 42, 39, 44, 32, 49,  1, 25, 38, 28,  1, 44, 32, 29,  1, 47,\n",
      "        33, 50, 25, 42, 28,  1, 33, 38,  1, 39, 50,  0,  0, 26, 49,  0,  0, 36,\n",
      "        11,  1, 30, 42, 25, 38, 35,  1, 26, 25, 45, 37,  0,  0, 25, 45, 44, 32,\n",
      "        39, 42,  1, 39, 30,  1, 44, 32, 29,  1, 47, 33, 50, 25, 42, 28,  1, 39,\n",
      "        30,  1, 39, 50,  9,  1, 44, 32, 29,  1, 36, 25, 38, 28,  1, 39, 30,  1,\n",
      "        39, 50,  9,  1, 39, 50, 37, 25,  1, 39])\n"
     ]
    }
   ],
   "source": [
    "data = torch.tensor(encode(text), dtype=torch.long)\n",
    "print(data[:100])"
   ]
  },
  {
   "cell_type": "code",
   "execution_count": 17,
   "metadata": {},
   "outputs": [
    {
     "name": "stdout",
     "output_type": "stream",
     "text": [
      "Inputs: tensor([[ 3, 33,  1, 61, 54, 75, 58,  1],\n",
      "        [60, 23,  1, 72, 68,  1, 73, 61],\n",
      "        [72, 73, 71, 58, 73, 56, 61, 58],\n",
      "        [58, 71,  1, 73, 68, 76, 54, 71]], device='cuda:0') targets: tensor([[33,  1, 61, 54, 75, 58,  1, 54],\n",
      "        [23,  1, 72, 68,  1, 73, 61, 58],\n",
      "        [73, 71, 58, 73, 56, 61, 58, 57],\n",
      "        [71,  1, 73, 68, 76, 54, 71, 57]], device='cuda:0')\n"
     ]
    }
   ],
   "source": [
    "train_size = int(0.8 * len(data))\n",
    "train_data = data[:train_size]\n",
    "val_data = data[train_size:]\n",
    "\n",
    "def get_batch(split):\n",
    "    data = train_data if split == \"train\" else val_data\n",
    "    ix = torch.randint(len(data)-BLOCK_SIZE, (BATCH_SIZE,))\n",
    "\n",
    "    x = torch.stack([data[i:i+BLOCK_SIZE]for i in ix])\n",
    "    y = torch.stack([data[i+1:i+BLOCK_SIZE+1]for i in ix])\n",
    "    x, y = x.to(device), y.to(device)\n",
    "    return x, y\n",
    "\n",
    "x, y = get_batch(split=\"train\")\n",
    "print(f'Inputs: {x} targets: {y}')"
   ]
  },
  {
   "cell_type": "code",
   "execution_count": 18,
   "metadata": {},
   "outputs": [
    {
     "name": "stdout",
     "output_type": "stream",
     "text": [
      "When input is tensor([80]), target is 28\n",
      "When input is tensor([80, 28]), target is 39\n",
      "When input is tensor([80, 28, 39]), target is 42\n",
      "When input is tensor([80, 28, 39, 42]), target is 39\n",
      "When input is tensor([80, 28, 39, 42, 39]), target is 44\n",
      "When input is tensor([80, 28, 39, 42, 39, 44]), target is 32\n",
      "When input is tensor([80, 28, 39, 42, 39, 44, 32]), target is 49\n",
      "When input is tensor([80, 28, 39, 42, 39, 44, 32, 49]), target is 1\n"
     ]
    }
   ],
   "source": [
    "x = train_data[:BLOCK_SIZE]\n",
    "y = train_data[1:BLOCK_SIZE+1]\n",
    "\n",
    "for i in range(BLOCK_SIZE):\n",
    "    context = x[:i+1]\n",
    "    target = y[i]\n",
    "    print(f'When input is {context}, target is {target}')"
   ]
  },
  {
   "cell_type": "code",
   "execution_count": 19,
   "metadata": {},
   "outputs": [
    {
     "name": "stdout",
     "output_type": "stream",
     "text": [
      "81\n"
     ]
    },
    {
     "data": {
      "text/plain": [
       "torch.Size([4, 100])"
      ]
     },
     "execution_count": 19,
     "metadata": {},
     "output_type": "execute_result"
    }
   ],
   "source": [
    "from torch import nn\n",
    "\n",
    "vocab_size = len(chars)\n",
    "embedding_size = 100\n",
    "embedding = nn.Embedding(vocab_size, embedding_size)\n",
    "\n",
    "input_indicies = torch.LongTensor([1, 5, 3, 2])\n",
    "output = embedding(input_indicies)\n",
    "\n",
    "print(vocab_size)\n",
    "output.shape"
   ]
  },
  {
   "cell_type": "markdown",
   "metadata": {},
   "source": [
    "# Model Building"
   ]
  },
  {
   "cell_type": "code",
   "execution_count": 20,
   "metadata": {},
   "outputs": [
    {
     "name": "stdout",
     "output_type": "stream",
     "text": [
      "\n",
      "JCkjT﻿qwnd' -vPyX:ANcxMuiCoViAm9QKt8\n",
      " 0KXZ:2'i2RxmZIV6iTW,oST6H)61t10we!eH:LHnpuQctVR j(X8wN)'NZtGFg&﻿T﻿\n",
      "br﻿Y_?x3c\n",
      "w4o1bPGM,Gph549LeJBks.J8br\"﻿P5﻿Ol:s.LnuLEl\n",
      "rP?\n",
      "FP- Op&﻿9&NtKH_SkZ?qoZ:F-,eQARh.4p83\"﻿Oa0﻿Yz1.2﻿xG[_s'm0HMhL!!hb]ea,bRLy\";)!W9nXku8﻿vP8A?x6c4]8-Op6HXDiEegPt]KlA0YFM\"﻿9iI* ?;]?&ukksfh!D7-E!aKZukf00'g'IvKe!vUdTF)AKdU]Hu70bb&8R\n",
      "O_ogA?﻿ZI:r66wyu8EJ1.PPSM07Ge5DEnF12Bz52G&1vLt Gj'8WwKot3oVDMHp8,﻿T5GTt]HY?7[ZN;s_!V:Lb]w﻿:dT?ggon!cRJ9njw4i \n",
      "Kd0Fh*'(X:[j61,N0*8(DR-\"Snn1aVDiRiHkQDDm&_(XuvB3r\"B\n"
     ]
    }
   ],
   "source": [
    "class BigramLanguageModel(nn.Module):\n",
    "    def __init__(self, vocab_size):\n",
    "        super().__init__()\n",
    "        self.token_embedding_table = nn.Embedding(vocab_size, vocab_size)\n",
    "    \n",
    "    def forward(self, index, targets=None):\n",
    "        logits = self.token_embedding_table(index)\n",
    "        \n",
    "        if targets is None:\n",
    "            loss = None\n",
    "        else: \n",
    "            B, T, C = logits.shape\n",
    "            logits = logits.view(B*T, C)\n",
    "            targets = targets.view(B*T)\n",
    "            loss = F.cross_entropy(logits, targets)\n",
    "        \n",
    "        return logits, loss\n",
    "\n",
    "    def generate(self, index, max_new_tokens):\n",
    "        # index is (B, T) array of indices in the current context\n",
    "        for _ in range(max_new_tokens):\n",
    "            # get preds\n",
    "            logits, loss = self(index)\n",
    "            # focus on last time step\n",
    "            logits = logits[:,-1,:] # (B, C)\n",
    "            \n",
    "            probs = F.softmax(logits, dim=-1)\n",
    "            # sample from distribution\n",
    "            index_next = torch.multinomial(probs, num_samples=1)\n",
    "            # append sampled index to running sequence\n",
    "            index = torch.cat((index, index_next), dim=1)\n",
    "        return index\n",
    "\n",
    "model = BigramLanguageModel(vocab_size=vocab_size)\n",
    "model = model.to(device)\n",
    "\n",
    "context = torch.zeros((1, 1), dtype=torch.long, device=device)\n",
    "generated_text = model.generate(context, max_new_tokens=500)[0].tolist()\n",
    "decoded_text = decode(generated_text)\n",
    "print(decoded_text)\n",
    "\n",
    "        \n",
    "    "
   ]
  },
  {
   "cell_type": "markdown",
   "metadata": {},
   "source": [
    "# TRAINING"
   ]
  },
  {
   "cell_type": "markdown",
   "metadata": {},
   "source": [
    "## Test func"
   ]
  },
  {
   "cell_type": "code",
   "execution_count": 21,
   "metadata": {},
   "outputs": [],
   "source": [
    "\n",
    "def estimate_loss(model,\n",
    "                  eval_iters):\n",
    "    out = {}\n",
    "    model.eval()\n",
    "    with torch.inference_mode():\n",
    "        for split in ['train', 'val']:\n",
    "            losses = torch.zeros(eval_iters)\n",
    "            for k in range(eval_iters):\n",
    "                X, Y = get_batch(split)\n",
    "                logits, loss = model(X, Y)\n",
    "                losses[k] = loss.item()\n",
    "            out[split] = losses.mean()\n",
    "    model.train()\n",
    "    return out"
   ]
  },
  {
   "cell_type": "code",
   "execution_count": 29,
   "metadata": {},
   "outputs": [
    {
     "name": "stdout",
     "output_type": "stream",
     "text": [
      "step: 0, train loss: 2.527, val loss: 2.562\n",
      "step: 250, train loss: 2.524, val loss: 2.586\n",
      "step: 500, train loss: 2.528, val loss: 2.555\n",
      "step: 750, train loss: 2.520, val loss: 2.557\n",
      "step: 1000, train loss: 2.514, val loss: 2.574\n",
      "step: 1250, train loss: 2.541, val loss: 2.567\n",
      "step: 1500, train loss: 2.542, val loss: 2.592\n",
      "step: 1750, train loss: 2.544, val loss: 2.581\n",
      "step: 2000, train loss: 2.522, val loss: 2.553\n",
      "step: 2250, train loss: 2.521, val loss: 2.565\n",
      "step: 2500, train loss: 2.543, val loss: 2.548\n",
      "step: 2750, train loss: 2.519, val loss: 2.577\n",
      "step: 3000, train loss: 2.496, val loss: 2.561\n",
      "step: 3250, train loss: 2.515, val loss: 2.561\n",
      "step: 3500, train loss: 2.509, val loss: 2.533\n",
      "step: 3750, train loss: 2.497, val loss: 2.523\n",
      "step: 4000, train loss: 2.487, val loss: 2.528\n",
      "step: 4250, train loss: 2.496, val loss: 2.552\n",
      "step: 4500, train loss: 2.537, val loss: 2.540\n",
      "step: 4750, train loss: 2.520, val loss: 2.536\n",
      "step: 5000, train loss: 2.481, val loss: 2.561\n",
      "step: 5250, train loss: 2.504, val loss: 2.559\n",
      "step: 5500, train loss: 2.462, val loss: 2.551\n",
      "step: 5750, train loss: 2.479, val loss: 2.554\n",
      "step: 6000, train loss: 2.479, val loss: 2.533\n",
      "step: 6250, train loss: 2.498, val loss: 2.520\n",
      "step: 6500, train loss: 2.482, val loss: 2.522\n",
      "step: 6750, train loss: 2.502, val loss: 2.544\n",
      "step: 7000, train loss: 2.494, val loss: 2.536\n",
      "step: 7250, train loss: 2.467, val loss: 2.515\n",
      "step: 7500, train loss: 2.500, val loss: 2.546\n",
      "step: 7750, train loss: 2.495, val loss: 2.495\n",
      "step: 8000, train loss: 2.509, val loss: 2.511\n",
      "step: 8250, train loss: 2.477, val loss: 2.532\n",
      "step: 8500, train loss: 2.489, val loss: 2.523\n",
      "step: 8750, train loss: 2.482, val loss: 2.530\n",
      "step: 9000, train loss: 2.486, val loss: 2.520\n",
      "step: 9250, train loss: 2.467, val loss: 2.508\n",
      "step: 9500, train loss: 2.493, val loss: 2.504\n",
      "step: 9750, train loss: 2.483, val loss: 2.481\n",
      "2.3355350494384766\n"
     ]
    }
   ],
   "source": [
    "optimizer = torch.optim.AdamW(model.parameters(), lr=LEARNING_RATE)\n",
    "\n",
    "for i in range(MAX_ITERS):\n",
    "    # test\n",
    "    if i % EVAL_STEP == 0:\n",
    "        step_results = estimate_loss(model=model,\n",
    "                                     eval_iters=EVAL_STEP)\n",
    "        print(f\"step: {i}, train loss: {step_results['train']:.3f}, val loss: {step_results['val']:.3f}\")\n",
    "    \n",
    "    # Train\n",
    "    \n",
    "    # get samle batch of data\n",
    "    X, y = get_batch('train')\n",
    "    \n",
    "    logits, loss = model(X, y)\n",
    "    optimizer.zero_grad(set_to_none=True) \n",
    "    loss.backward()\n",
    "    optimizer.step()\n",
    "\n",
    "print(loss.item())"
   ]
  },
  {
   "cell_type": "code",
   "execution_count": 28,
   "metadata": {},
   "outputs": [
    {
     "name": "stdout",
     "output_type": "stream",
     "text": [
      "\n",
      ":(Xp(]jke bed me soy f tinllard ane wheld th hedrmoy'ZTOB2Q[6Xzand o at\n",
      "uil do, Pfsheanxjrl\n",
      "\"\n",
      "popld ttllyoup?[k.Pe. aney\n",
      "ws,\"Sgrdormy, sthe ng?[cuu,\" wa if ocond Don, are\n",
      "\n",
      "\"\n",
      "wa B8:\n",
      "\"Le ce theibut qFx15z\n",
      "\n",
      "If-, wfe opso engo certhe d y bto au, aus of\n",
      "\"I\n",
      "cof, outove'so!ZSon-I ld3614'.\n",
      "\n",
      "hertonnsimplesislpangais'maied m  I\n",
      "7L(XBd sow wag\n",
      "thengI? B\"Eve true y\n",
      "we pererefre rin]kYLHk ngrecale.\n",
      "W\" ckshet  araotil, \" thawad,\n",
      "\" tiset wareethe HYxanth \"Oher n M.\" th ofol_in, ait cc\"\n",
      "p,\"HI\n",
      "on'lo\n",
      "\"W,e owe wis\n"
     ]
    }
   ],
   "source": [
    "generated_text = model.generate(context, max_new_tokens=500)[0].tolist()\n",
    "decoded_text = decode(generated_text)\n",
    "print(decoded_text)"
   ]
  }
 ],
 "metadata": {
  "kernelspec": {
   "display_name": "Python 3",
   "language": "python",
   "name": "python3"
  },
  "language_info": {
   "codemirror_mode": {
    "name": "ipython",
    "version": 3
   },
   "file_extension": ".py",
   "mimetype": "text/x-python",
   "name": "python",
   "nbconvert_exporter": "python",
   "pygments_lexer": "ipython3",
   "version": "3.10.11"
  },
  "orig_nbformat": 4
 },
 "nbformat": 4,
 "nbformat_minor": 2
}
