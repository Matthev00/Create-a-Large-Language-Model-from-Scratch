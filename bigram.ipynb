{
 "cells": [
  {
   "cell_type": "code",
   "execution_count": 4,
   "metadata": {},
   "outputs": [
    {
     "data": {
      "text/plain": [
       "['\\n',\n",
       " ' ',\n",
       " '!',\n",
       " '\"',\n",
       " '&',\n",
       " \"'\",\n",
       " '(',\n",
       " ')',\n",
       " '*',\n",
       " ',',\n",
       " '-',\n",
       " '.',\n",
       " '0',\n",
       " '1',\n",
       " '2',\n",
       " '3',\n",
       " '4',\n",
       " '5',\n",
       " '6',\n",
       " '7',\n",
       " '8',\n",
       " '9',\n",
       " ':',\n",
       " ';',\n",
       " '?',\n",
       " 'A',\n",
       " 'B',\n",
       " 'C',\n",
       " 'D',\n",
       " 'E',\n",
       " 'F',\n",
       " 'G',\n",
       " 'H',\n",
       " 'I',\n",
       " 'J',\n",
       " 'K',\n",
       " 'L',\n",
       " 'M',\n",
       " 'N',\n",
       " 'O',\n",
       " 'P',\n",
       " 'Q',\n",
       " 'R',\n",
       " 'S',\n",
       " 'T',\n",
       " 'U',\n",
       " 'V',\n",
       " 'W',\n",
       " 'X',\n",
       " 'Y',\n",
       " 'Z',\n",
       " '[',\n",
       " ']',\n",
       " '_',\n",
       " 'a',\n",
       " 'b',\n",
       " 'c',\n",
       " 'd',\n",
       " 'e',\n",
       " 'f',\n",
       " 'g',\n",
       " 'h',\n",
       " 'i',\n",
       " 'j',\n",
       " 'k',\n",
       " 'l',\n",
       " 'm',\n",
       " 'n',\n",
       " 'o',\n",
       " 'p',\n",
       " 'q',\n",
       " 'r',\n",
       " 's',\n",
       " 't',\n",
       " 'u',\n",
       " 'v',\n",
       " 'w',\n",
       " 'x',\n",
       " 'y',\n",
       " 'z',\n",
       " '\\ufeff']"
      ]
     },
     "execution_count": 4,
     "metadata": {},
     "output_type": "execute_result"
    }
   ],
   "source": [
    "with open('wizard_of_oz.txt', 'r', encoding='utf-8') as file_handle:\n",
    "    text = file_handle.read()\n",
    "\n",
    "chars = sorted(set(text))\n",
    "chars"
   ]
  },
  {
   "cell_type": "code",
   "execution_count": 5,
   "metadata": {},
   "outputs": [
    {
     "name": "stdout",
     "output_type": "stream",
     "text": [
      "hello\n"
     ]
    }
   ],
   "source": [
    "str_to_int = { ch:i for i, ch in enumerate(chars)}\n",
    "int_to_ch = { i:ch for i, ch in enumerate(chars)}\n",
    "\n",
    "encode = lambda s: [str_to_int[c] for c in s]\n",
    "decode = lambda l: ''.join([int_to_ch[n] for n in l])\n",
    "\n",
    "encoded_hello = encode('hello')\n",
    "decoded_hello = decode(encoded_hello)\n",
    "print(decoded_hello)"
   ]
  },
  {
   "cell_type": "code",
   "execution_count": 6,
   "metadata": {},
   "outputs": [],
   "source": [
    "import torch\n",
    "from torch import nn\n",
    "from torch.nn import functional as F\n",
    "\n",
    "device = torch.device('cuda:0' if torch.cuda.is_available() else 'cpu')\n",
    "BLOCK_SIZE = 8\n",
    "BATCH_SIZE = 4"
   ]
  },
  {
   "cell_type": "code",
   "execution_count": 7,
   "metadata": {},
   "outputs": [
    {
     "name": "stdout",
     "output_type": "stream",
     "text": [
      "tensor([80, 28, 39, 42, 39, 44, 32, 49,  1, 25, 38, 28,  1, 44, 32, 29,  1, 47,\n",
      "        33, 50, 25, 42, 28,  1, 33, 38,  1, 39, 50,  0,  0, 26, 49,  0,  0, 36,\n",
      "        11,  1, 30, 42, 25, 38, 35,  1, 26, 25, 45, 37,  0,  0, 25, 45, 44, 32,\n",
      "        39, 42,  1, 39, 30,  1, 44, 32, 29,  1, 47, 33, 50, 25, 42, 28,  1, 39,\n",
      "        30,  1, 39, 50,  9,  1, 44, 32, 29,  1, 36, 25, 38, 28,  1, 39, 30,  1,\n",
      "        39, 50,  9,  1, 39, 50, 37, 25,  1, 39])\n"
     ]
    }
   ],
   "source": [
    "data = torch.tensor(encode(text), dtype=torch.long)\n",
    "print(data[:100])"
   ]
  },
  {
   "cell_type": "code",
   "execution_count": 8,
   "metadata": {},
   "outputs": [
    {
     "name": "stdout",
     "output_type": "stream",
     "text": [
      "tensor([152020,  85561, 184011, 152352])\n",
      "Inputs: tensor([[68, 76, 72, 11,  1, 25, 67, 57],\n",
      "        [58,  1, 76, 54, 72,  1, 75, 58],\n",
      "        [54, 60, 54, 62, 67,  1, 76, 61],\n",
      "        [ 1, 68, 67,  1, 54,  1, 59, 54]], device='cuda:0') targets: tensor([[76, 72, 11,  1, 25, 67, 57,  1],\n",
      "        [ 1, 76, 54, 72,  1, 75, 58, 71],\n",
      "        [60, 54, 62, 67,  1, 76, 61, 58],\n",
      "        [68, 67,  1, 54,  1, 59, 54, 71]], device='cuda:0')\n"
     ]
    }
   ],
   "source": [
    "train_size = int(0.8 * len(data))\n",
    "train_data = data[:train_size]\n",
    "val_data = data[train_size:]\n",
    "\n",
    "def get_batch(split):\n",
    "    data = train_data if split == \"train\" else val_data\n",
    "    ix = torch.randint(len(data)-BLOCK_SIZE, (BATCH_SIZE,))\n",
    "    print(ix)\n",
    "    x = torch.stack([data[i:i+BLOCK_SIZE]for i in ix])\n",
    "    y = torch.stack([data[i+1:i+BLOCK_SIZE+1]for i in ix])\n",
    "    x, y = x.to(device), y.to(device)\n",
    "    return x, y\n",
    "\n",
    "x, y = get_batch(split=\"train\")\n",
    "print(f'Inputs: {x} targets: {y}')"
   ]
  },
  {
   "cell_type": "code",
   "execution_count": 9,
   "metadata": {},
   "outputs": [
    {
     "name": "stdout",
     "output_type": "stream",
     "text": [
      "When input is tensor([80]), target is 28\n",
      "When input is tensor([80, 28]), target is 39\n",
      "When input is tensor([80, 28, 39]), target is 42\n",
      "When input is tensor([80, 28, 39, 42]), target is 39\n",
      "When input is tensor([80, 28, 39, 42, 39]), target is 44\n",
      "When input is tensor([80, 28, 39, 42, 39, 44]), target is 32\n",
      "When input is tensor([80, 28, 39, 42, 39, 44, 32]), target is 49\n",
      "When input is tensor([80, 28, 39, 42, 39, 44, 32, 49]), target is 1\n"
     ]
    }
   ],
   "source": [
    "x = train_data[:BLOCK_SIZE]\n",
    "y = train_data[1:BLOCK_SIZE+1]\n",
    "\n",
    "for i in range(BLOCK_SIZE):\n",
    "    context = x[:i+1]\n",
    "    target = y[i]\n",
    "    print(f'When input is {context}, target is {target}')"
   ]
  },
  {
   "cell_type": "code",
   "execution_count": 10,
   "metadata": {},
   "outputs": [
    {
     "data": {
      "text/plain": [
       "torch.Size([4, 100])"
      ]
     },
     "execution_count": 10,
     "metadata": {},
     "output_type": "execute_result"
    }
   ],
   "source": [
    "from torch import nn\n",
    "\n",
    "vocab_size = 10000\n",
    "embedding_size = 100\n",
    "embedding = nn.Embedding(vocab_size, embedding_size)\n",
    "\n",
    "input_indicies = torch.LongTensor([1, 5, 3, 2])\n",
    "output = embedding(input_indicies)\n",
    "\n",
    "output.shape"
   ]
  },
  {
   "cell_type": "code",
   "execution_count": 14,
   "metadata": {},
   "outputs": [
    {
     "ename": "KeyError",
     "evalue": "3382",
     "output_type": "error",
     "traceback": [
      "\u001b[1;31m---------------------------------------------------------------------------\u001b[0m",
      "\u001b[1;31mKeyError\u001b[0m                                  Traceback (most recent call last)",
      "\u001b[1;32me:\\projekty python\\Create-a-Large-Language-Model-from-Scratch\\bigram.ipynb Cell 8\u001b[0m line \u001b[0;36m3\n\u001b[0;32m     <a href='vscode-notebook-cell:/e%3A/projekty%20python/Create-a-Large-Language-Model-from-Scratch/bigram.ipynb#X10sZmlsZQ%3D%3D?line=36'>37</a>\u001b[0m context \u001b[39m=\u001b[39m torch\u001b[39m.\u001b[39mzeros((\u001b[39m1\u001b[39m, \u001b[39m1\u001b[39m), dtype\u001b[39m=\u001b[39mtorch\u001b[39m.\u001b[39mlong, device\u001b[39m=\u001b[39mdevice)\n\u001b[0;32m     <a href='vscode-notebook-cell:/e%3A/projekty%20python/Create-a-Large-Language-Model-from-Scratch/bigram.ipynb#X10sZmlsZQ%3D%3D?line=37'>38</a>\u001b[0m generated_text \u001b[39m=\u001b[39m model\u001b[39m.\u001b[39mgenerate(context, max_new_tokens\u001b[39m=\u001b[39m\u001b[39m500\u001b[39m)[\u001b[39m0\u001b[39m]\u001b[39m.\u001b[39mtolist()\n\u001b[1;32m---> <a href='vscode-notebook-cell:/e%3A/projekty%20python/Create-a-Large-Language-Model-from-Scratch/bigram.ipynb#X10sZmlsZQ%3D%3D?line=38'>39</a>\u001b[0m decoded_text \u001b[39m=\u001b[39m decode(generated_text)\n\u001b[0;32m     <a href='vscode-notebook-cell:/e%3A/projekty%20python/Create-a-Large-Language-Model-from-Scratch/bigram.ipynb#X10sZmlsZQ%3D%3D?line=39'>40</a>\u001b[0m \u001b[39mprint\u001b[39m(generated_text)\n",
      "\u001b[1;32me:\\projekty python\\Create-a-Large-Language-Model-from-Scratch\\bigram.ipynb Cell 8\u001b[0m line \u001b[0;36m5\n\u001b[0;32m      <a href='vscode-notebook-cell:/e%3A/projekty%20python/Create-a-Large-Language-Model-from-Scratch/bigram.ipynb#X10sZmlsZQ%3D%3D?line=1'>2</a>\u001b[0m int_to_ch \u001b[39m=\u001b[39m { i:ch \u001b[39mfor\u001b[39;00m i, ch \u001b[39min\u001b[39;00m \u001b[39menumerate\u001b[39m(chars)}\n\u001b[0;32m      <a href='vscode-notebook-cell:/e%3A/projekty%20python/Create-a-Large-Language-Model-from-Scratch/bigram.ipynb#X10sZmlsZQ%3D%3D?line=3'>4</a>\u001b[0m encode \u001b[39m=\u001b[39m \u001b[39mlambda\u001b[39;00m s: [str_to_int[c] \u001b[39mfor\u001b[39;00m c \u001b[39min\u001b[39;00m s]\n\u001b[1;32m----> <a href='vscode-notebook-cell:/e%3A/projekty%20python/Create-a-Large-Language-Model-from-Scratch/bigram.ipynb#X10sZmlsZQ%3D%3D?line=4'>5</a>\u001b[0m decode \u001b[39m=\u001b[39m \u001b[39mlambda\u001b[39;00m l: \u001b[39m'\u001b[39m\u001b[39m'\u001b[39m\u001b[39m.\u001b[39mjoin([int_to_ch[n] \u001b[39mfor\u001b[39;00m n \u001b[39min\u001b[39;00m l])\n\u001b[0;32m      <a href='vscode-notebook-cell:/e%3A/projekty%20python/Create-a-Large-Language-Model-from-Scratch/bigram.ipynb#X10sZmlsZQ%3D%3D?line=6'>7</a>\u001b[0m encoded_hello \u001b[39m=\u001b[39m encode(\u001b[39m'\u001b[39m\u001b[39mhello\u001b[39m\u001b[39m'\u001b[39m)\n\u001b[0;32m      <a href='vscode-notebook-cell:/e%3A/projekty%20python/Create-a-Large-Language-Model-from-Scratch/bigram.ipynb#X10sZmlsZQ%3D%3D?line=7'>8</a>\u001b[0m decoded_hello \u001b[39m=\u001b[39m decode(encoded_hello)\n",
      "\u001b[1;32me:\\projekty python\\Create-a-Large-Language-Model-from-Scratch\\bigram.ipynb Cell 8\u001b[0m line \u001b[0;36m5\n\u001b[0;32m      <a href='vscode-notebook-cell:/e%3A/projekty%20python/Create-a-Large-Language-Model-from-Scratch/bigram.ipynb#X10sZmlsZQ%3D%3D?line=1'>2</a>\u001b[0m int_to_ch \u001b[39m=\u001b[39m { i:ch \u001b[39mfor\u001b[39;00m i, ch \u001b[39min\u001b[39;00m \u001b[39menumerate\u001b[39m(chars)}\n\u001b[0;32m      <a href='vscode-notebook-cell:/e%3A/projekty%20python/Create-a-Large-Language-Model-from-Scratch/bigram.ipynb#X10sZmlsZQ%3D%3D?line=3'>4</a>\u001b[0m encode \u001b[39m=\u001b[39m \u001b[39mlambda\u001b[39;00m s: [str_to_int[c] \u001b[39mfor\u001b[39;00m c \u001b[39min\u001b[39;00m s]\n\u001b[1;32m----> <a href='vscode-notebook-cell:/e%3A/projekty%20python/Create-a-Large-Language-Model-from-Scratch/bigram.ipynb#X10sZmlsZQ%3D%3D?line=4'>5</a>\u001b[0m decode \u001b[39m=\u001b[39m \u001b[39mlambda\u001b[39;00m l: \u001b[39m'\u001b[39m\u001b[39m'\u001b[39m\u001b[39m.\u001b[39mjoin([int_to_ch[n] \u001b[39mfor\u001b[39;00m n \u001b[39min\u001b[39;00m l])\n\u001b[0;32m      <a href='vscode-notebook-cell:/e%3A/projekty%20python/Create-a-Large-Language-Model-from-Scratch/bigram.ipynb#X10sZmlsZQ%3D%3D?line=6'>7</a>\u001b[0m encoded_hello \u001b[39m=\u001b[39m encode(\u001b[39m'\u001b[39m\u001b[39mhello\u001b[39m\u001b[39m'\u001b[39m)\n\u001b[0;32m      <a href='vscode-notebook-cell:/e%3A/projekty%20python/Create-a-Large-Language-Model-from-Scratch/bigram.ipynb#X10sZmlsZQ%3D%3D?line=7'>8</a>\u001b[0m decoded_hello \u001b[39m=\u001b[39m decode(encoded_hello)\n",
      "\u001b[1;31mKeyError\u001b[0m: 3382"
     ]
    }
   ],
   "source": [
    "class BigramLanguageModel(nn.Module):\n",
    "    def __init__(self, vocab_size):\n",
    "        super().__init__()\n",
    "        self.token_embedding_table = nn.Embedding(vocab_size, vocab_size)\n",
    "    \n",
    "    def forward(self, index, targets=None):\n",
    "        logits = self.token_embedding_table(index)\n",
    "        \n",
    "        if targets:\n",
    "            B, T, C = logits.shape\n",
    "            logits = logits.view(B*T, C)\n",
    "            targets = targets.view(B*T)\n",
    "            loss = F.cross_entropy(logits, targets)\n",
    "        else: \n",
    "            loss = None\n",
    "        \n",
    "        return logits, loss\n",
    "\n",
    "    def generate(self, index, max_new_tokens):\n",
    "        # index is (B, T) array of indices in the current context\n",
    "        for _ in range(max_new_tokens):\n",
    "            # get preds\n",
    "            logits, loss = self(index)\n",
    "            # focus on last time step\n",
    "            logits = logits[:,-1,:] # (B, C)\n",
    "            \n",
    "            probs = F.softmax(logits, dim=-1)\n",
    "            # sample from distribution\n",
    "            index_next = torch.multinomial(probs, num_samples=1)\n",
    "            # append sampled index to running sequence\n",
    "            index = torch.cat((index, index_next), dim=1)\n",
    "        return index\n",
    "\n",
    "model = BigramLanguageModel(vocab_size=vocab_size)\n",
    "model = model.to(device)\n",
    "\n",
    "context = torch.zeros((1, 1), dtype=torch.long, device=device)\n",
    "generated_text = model.generate(context, max_new_tokens=500)[0].tolist()\n",
    "decoded_text = decode(generated_text)\n",
    "print(generated_text)\n",
    "\n",
    "        \n",
    "    "
   ]
  },
  {
   "cell_type": "code",
   "execution_count": null,
   "metadata": {},
   "outputs": [],
   "source": []
  }
 ],
 "metadata": {
  "kernelspec": {
   "display_name": "Python 3",
   "language": "python",
   "name": "python3"
  },
  "language_info": {
   "codemirror_mode": {
    "name": "ipython",
    "version": 3
   },
   "file_extension": ".py",
   "mimetype": "text/x-python",
   "name": "python",
   "nbconvert_exporter": "python",
   "pygments_lexer": "ipython3",
   "version": "3.10.11"
  },
  "orig_nbformat": 4
 },
 "nbformat": 4,
 "nbformat_minor": 2
}
