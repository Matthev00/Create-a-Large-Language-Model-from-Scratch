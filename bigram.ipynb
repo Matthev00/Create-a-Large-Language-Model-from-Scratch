{
 "cells": [
  {
   "cell_type": "code",
   "execution_count": 1,
   "metadata": {},
   "outputs": [
    {
     "data": {
      "text/plain": [
       "['\\n',\n",
       " ' ',\n",
       " '!',\n",
       " '\"',\n",
       " '&',\n",
       " \"'\",\n",
       " '(',\n",
       " ')',\n",
       " '*',\n",
       " ',',\n",
       " '-',\n",
       " '.',\n",
       " '0',\n",
       " '1',\n",
       " '2',\n",
       " '3',\n",
       " '4',\n",
       " '5',\n",
       " '6',\n",
       " '7',\n",
       " '8',\n",
       " '9',\n",
       " ':',\n",
       " ';',\n",
       " '?',\n",
       " 'A',\n",
       " 'B',\n",
       " 'C',\n",
       " 'D',\n",
       " 'E',\n",
       " 'F',\n",
       " 'G',\n",
       " 'H',\n",
       " 'I',\n",
       " 'J',\n",
       " 'K',\n",
       " 'L',\n",
       " 'M',\n",
       " 'N',\n",
       " 'O',\n",
       " 'P',\n",
       " 'Q',\n",
       " 'R',\n",
       " 'S',\n",
       " 'T',\n",
       " 'U',\n",
       " 'V',\n",
       " 'W',\n",
       " 'X',\n",
       " 'Y',\n",
       " 'Z',\n",
       " '[',\n",
       " ']',\n",
       " '_',\n",
       " 'a',\n",
       " 'b',\n",
       " 'c',\n",
       " 'd',\n",
       " 'e',\n",
       " 'f',\n",
       " 'g',\n",
       " 'h',\n",
       " 'i',\n",
       " 'j',\n",
       " 'k',\n",
       " 'l',\n",
       " 'm',\n",
       " 'n',\n",
       " 'o',\n",
       " 'p',\n",
       " 'q',\n",
       " 'r',\n",
       " 's',\n",
       " 't',\n",
       " 'u',\n",
       " 'v',\n",
       " 'w',\n",
       " 'x',\n",
       " 'y',\n",
       " 'z',\n",
       " '\\ufeff']"
      ]
     },
     "execution_count": 1,
     "metadata": {},
     "output_type": "execute_result"
    }
   ],
   "source": [
    "with open('wizard_of_oz.txt', 'r', encoding='utf-8') as file_handle:\n",
    "    text = file_handle.read()\n",
    "\n",
    "chars = sorted(set(text))\n",
    "chars"
   ]
  },
  {
   "cell_type": "code",
   "execution_count": 2,
   "metadata": {},
   "outputs": [
    {
     "name": "stdout",
     "output_type": "stream",
     "text": [
      "hello\n"
     ]
    }
   ],
   "source": [
    "str_to_int = { ch:i for i, ch in enumerate(chars)}\n",
    "int_to_ch = { i:ch for i, ch in enumerate(chars)}\n",
    "\n",
    "encode = lambda s: [str_to_int[c] for c in s]\n",
    "decode = lambda l: ''.join([int_to_ch[n] for n in l])\n",
    "\n",
    "encoded_hello = encode('hello')\n",
    "decoded_hello = decode(encoded_hello)\n",
    "print(decoded_hello)"
   ]
  },
  {
   "cell_type": "code",
   "execution_count": 3,
   "metadata": {},
   "outputs": [],
   "source": [
    "import torch\n",
    "from torch import nn\n",
    "from torch.nn import functional as F\n",
    "\n",
    "device = torch.device('cuda:0' if torch.cuda.is_available() else 'cpu')\n",
    "BLOCK_SIZE = 8\n",
    "BATCH_SIZE = 4\n",
    "MAX_ITERS = 10000\n",
    "LEARNING_RATE = 3e-4"
   ]
  },
  {
   "cell_type": "code",
   "execution_count": 4,
   "metadata": {},
   "outputs": [
    {
     "name": "stdout",
     "output_type": "stream",
     "text": [
      "tensor([80, 28, 39, 42, 39, 44, 32, 49,  1, 25, 38, 28,  1, 44, 32, 29,  1, 47,\n",
      "        33, 50, 25, 42, 28,  1, 33, 38,  1, 39, 50,  0,  0, 26, 49,  0,  0, 36,\n",
      "        11,  1, 30, 42, 25, 38, 35,  1, 26, 25, 45, 37,  0,  0, 25, 45, 44, 32,\n",
      "        39, 42,  1, 39, 30,  1, 44, 32, 29,  1, 47, 33, 50, 25, 42, 28,  1, 39,\n",
      "        30,  1, 39, 50,  9,  1, 44, 32, 29,  1, 36, 25, 38, 28,  1, 39, 30,  1,\n",
      "        39, 50,  9,  1, 39, 50, 37, 25,  1, 39])\n"
     ]
    }
   ],
   "source": [
    "data = torch.tensor(encode(text), dtype=torch.long)\n",
    "print(data[:100])"
   ]
  },
  {
   "cell_type": "code",
   "execution_count": 5,
   "metadata": {},
   "outputs": [
    {
     "name": "stdout",
     "output_type": "stream",
     "text": [
      "Inputs: tensor([[58, 60, 54, 67,  1, 73, 68,  1],\n",
      "        [67,  1, 73, 61, 58,  1, 55, 68],\n",
      "        [62, 67,  1, 73, 61, 58,  1, 71],\n",
      "        [ 1, 73, 68, 67, 58, 57,  1, 75]], device='cuda:0') targets: tensor([[60, 54, 67,  1, 73, 68,  1, 72],\n",
      "        [ 1, 73, 61, 58,  1, 55, 68, 77],\n",
      "        [67,  1, 73, 61, 58,  1, 71, 68],\n",
      "        [73, 68, 67, 58, 57,  1, 75, 68]], device='cuda:0')\n"
     ]
    }
   ],
   "source": [
    "train_size = int(0.8 * len(data))\n",
    "train_data = data[:train_size]\n",
    "val_data = data[train_size:]\n",
    "\n",
    "def get_batch(split):\n",
    "    data = train_data if split == \"train\" else val_data\n",
    "    ix = torch.randint(len(data)-BLOCK_SIZE, (BATCH_SIZE,))\n",
    "\n",
    "    x = torch.stack([data[i:i+BLOCK_SIZE]for i in ix])\n",
    "    y = torch.stack([data[i+1:i+BLOCK_SIZE+1]for i in ix])\n",
    "    x, y = x.to(device), y.to(device)\n",
    "    return x, y\n",
    "\n",
    "x, y = get_batch(split=\"train\")\n",
    "print(f'Inputs: {x} targets: {y}')"
   ]
  },
  {
   "cell_type": "code",
   "execution_count": 6,
   "metadata": {},
   "outputs": [
    {
     "name": "stdout",
     "output_type": "stream",
     "text": [
      "When input is tensor([80]), target is 28\n",
      "When input is tensor([80, 28]), target is 39\n",
      "When input is tensor([80, 28, 39]), target is 42\n",
      "When input is tensor([80, 28, 39, 42]), target is 39\n",
      "When input is tensor([80, 28, 39, 42, 39]), target is 44\n",
      "When input is tensor([80, 28, 39, 42, 39, 44]), target is 32\n",
      "When input is tensor([80, 28, 39, 42, 39, 44, 32]), target is 49\n",
      "When input is tensor([80, 28, 39, 42, 39, 44, 32, 49]), target is 1\n"
     ]
    }
   ],
   "source": [
    "x = train_data[:BLOCK_SIZE]\n",
    "y = train_data[1:BLOCK_SIZE+1]\n",
    "\n",
    "for i in range(BLOCK_SIZE):\n",
    "    context = x[:i+1]\n",
    "    target = y[i]\n",
    "    print(f'When input is {context}, target is {target}')"
   ]
  },
  {
   "cell_type": "code",
   "execution_count": 7,
   "metadata": {},
   "outputs": [
    {
     "name": "stdout",
     "output_type": "stream",
     "text": [
      "81\n"
     ]
    },
    {
     "data": {
      "text/plain": [
       "torch.Size([4, 100])"
      ]
     },
     "execution_count": 7,
     "metadata": {},
     "output_type": "execute_result"
    }
   ],
   "source": [
    "from torch import nn\n",
    "\n",
    "vocab_size = len(chars)\n",
    "embedding_size = 100\n",
    "embedding = nn.Embedding(vocab_size, embedding_size)\n",
    "\n",
    "input_indicies = torch.LongTensor([1, 5, 3, 2])\n",
    "output = embedding(input_indicies)\n",
    "\n",
    "print(vocab_size)\n",
    "output.shape"
   ]
  },
  {
   "cell_type": "markdown",
   "metadata": {},
   "source": [
    "# Model Building"
   ]
  },
  {
   "cell_type": "code",
   "execution_count": 8,
   "metadata": {},
   "outputs": [
    {
     "name": "stdout",
     "output_type": "stream",
     "text": [
      "\n",
      "hkv)sJ' P]J zFRxer4;NnKXs2T!X!K.(*q)U3fTCs5(xYU___(,4b.GH2Uq3852&'4KfIoT\n",
      "h)s]&Z4-GcOvBd\"cixYoMsJtFhvgCtht\"-J*﻿(T7lU﻿vWb4-;'?ppVxQsF,e o;w3't\"]9Kp lL(*;A1,!aLLg&8AsY0Po!XYZ5\",a]z66Q)s;3gvZYtU16*8,;(bTG5jh28HQ4*B\n",
      "D]JGYJC,4GU﻿AX)Qdb2J zOMjm.SP'H97d]NMAseIaV62Uiy4xjx!X&BJY]2TxI6\n",
      "V3SZEc]H0K\n",
      ".M.l3!eWfH\"bu:Ye&pXtte,gi_D:Ph2zJ hA z(B\n",
      "GkSTnANhl8\n",
      "e\"EP*8ukxSZDItYp]0:zp]I0PVZRgOo0c*FkWWcVj-NMsKp&jYuwLeMNb)-B !]XMjh4*﻿5\n",
      "c*j0az4;FoPh\n",
      "P9\",A_JIVjri?p-;!XAdAYFjm3zja;\n",
      "Rlg7Ds1U]2J!Qe2*3dAJ5Tgv8,9p3CpBQ;Na2v-FLK,;N\n"
     ]
    }
   ],
   "source": [
    "class BigramLanguageModel(nn.Module):\n",
    "    def __init__(self, vocab_size):\n",
    "        super().__init__()\n",
    "        self.token_embedding_table = nn.Embedding(vocab_size, vocab_size)\n",
    "    \n",
    "    def forward(self, index, targets=None):\n",
    "        logits = self.token_embedding_table(index)\n",
    "        \n",
    "        if targets is None:\n",
    "            loss = None\n",
    "        else: \n",
    "            B, T, C = logits.shape\n",
    "            logits = logits.view(B*T, C)\n",
    "            targets = targets.view(B*T)\n",
    "            loss = F.cross_entropy(logits, targets)\n",
    "        \n",
    "        return logits, loss\n",
    "\n",
    "    def generate(self, index, max_new_tokens):\n",
    "        # index is (B, T) array of indices in the current context\n",
    "        for _ in range(max_new_tokens):\n",
    "            # get preds\n",
    "            logits, loss = self(index)\n",
    "            # focus on last time step\n",
    "            logits = logits[:,-1,:] # (B, C)\n",
    "            \n",
    "            probs = F.softmax(logits, dim=-1)\n",
    "            # sample from distribution\n",
    "            index_next = torch.multinomial(probs, num_samples=1)\n",
    "            # append sampled index to running sequence\n",
    "            index = torch.cat((index, index_next), dim=1)\n",
    "        return index\n",
    "\n",
    "model = BigramLanguageModel(vocab_size=vocab_size)\n",
    "model = model.to(device)\n",
    "\n",
    "context = torch.zeros((1, 1), dtype=torch.long, device=device)\n",
    "generated_text = model.generate(context, max_new_tokens=500)[0].tolist()\n",
    "decoded_text = decode(generated_text)\n",
    "print(decoded_text)\n",
    "\n",
    "        \n",
    "    "
   ]
  },
  {
   "cell_type": "markdown",
   "metadata": {},
   "source": [
    "# TRAINING"
   ]
  },
  {
   "cell_type": "code",
   "execution_count": 9,
   "metadata": {},
   "outputs": [
    {
     "name": "stdout",
     "output_type": "stream",
     "text": [
      "3.228759288787842\n"
     ]
    }
   ],
   "source": [
    "optimizer = torch.optim.AdamW(model.parameters(), lr=LEARNING_RATE)\n",
    "\n",
    "for i in range(MAX_ITERS):\n",
    "    X, y = get_batch('train')\n",
    "    \n",
    "    logits, loss = model(X, y)\n",
    "    optimizer.zero_grad(set_to_none=True) \n",
    "    loss.backward()\n",
    "    optimizer.step()\n",
    "\n",
    "print(loss.item())"
   ]
  }
 ],
 "metadata": {
  "kernelspec": {
   "display_name": "Python 3",
   "language": "python",
   "name": "python3"
  },
  "language_info": {
   "codemirror_mode": {
    "name": "ipython",
    "version": 3
   },
   "file_extension": ".py",
   "mimetype": "text/x-python",
   "name": "python",
   "nbconvert_exporter": "python",
   "pygments_lexer": "ipython3",
   "version": "3.10.11"
  },
  "orig_nbformat": 4
 },
 "nbformat": 4,
 "nbformat_minor": 2
}
